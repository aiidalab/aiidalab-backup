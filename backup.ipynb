{
 "cells": [
  {
   "cell_type": "markdown",
   "metadata": {},
   "source": [
    "# Backup via SSH"
   ]
  },
  {
   "cell_type": "code",
   "execution_count": null,
   "metadata": {},
   "outputs": [],
   "source": [
    "import sys\n",
    "from os import path\n",
    "import ipywidgets as ipw\n",
    "from time import strftime\n",
    "from pprint import pformat\n",
    "from IPython.display import clear_output"
   ]
  },
  {
   "cell_type": "code",
   "execution_count": null,
   "metadata": {},
   "outputs": [],
   "source": [
    "CONFIG_FN = '.backup.conf'\n",
    "if path.exists(CONFIG_FN):\n",
    "    config = eval(open(CONFIG_FN).read())\n",
    "else:\n",
    "    config = {'destination':''}\n",
    "\n",
    "placeholder = \"e.g. daint.cscs.ch:mc-backup\"\n",
    "dest_txt = ipw.Text(description=\"Destination:\", placeholder=placeholder, value=config['destination'])\n",
    "name_txt = ipw.Text(description=\"Name:\", value=strftime(\"backup_%Y-%m-%d\"))\n",
    "\n",
    "display(dest_txt,name_txt)"
   ]
  },
  {
   "cell_type": "code",
   "execution_count": null,
   "metadata": {},
   "outputs": [],
   "source": [
    "def on_btn_start_clicked(b):\n",
    "    with output:\n",
    "        clear_output()\n",
    "        run_backup(dest_txt.value.strip(), name_txt.value.strip())\n",
    "btn_start = ipw.Button(description=\"Start Backup\")\n",
    "btn_start.on_click(on_btn_start_clicked)\n",
    "display(btn_start)"
   ]
  },
  {
   "cell_type": "code",
   "execution_count": null,
   "metadata": {},
   "outputs": [],
   "source": [
    "def run_backup(dest, name):\n",
    "    assert len(dest)>0\n",
    "    assert len(name)>0\n",
    "\n",
    "    # store config\n",
    "    config = {'destination': dest}\n",
    "    open(CONFIG_FN, 'w').write(pformat(config))\n",
    "    \n",
    "    run_cmd(\"mkdir -p /tmp/{name}\".format(name=name))\n",
    "    run_cmd(\"pg_dump --host=localhost aiidadb | gzip > /tmp/{name}/aiidadb.sql.gz\".format(name=name))\n",
    "    run_cmd(\"rsync -a /tmp/{name}/ {dest}/{name}/\".format(dest=dest, name=name))\n",
    "    run_cmd(\"rsync -a --exclude=.postgresql /project/ {dest}/{name}/\".format(dest=dest, name=name))\n",
    "    print(\"done\")"
   ]
  },
  {
   "cell_type": "code",
   "execution_count": null,
   "metadata": {},
   "outputs": [],
   "source": [
    "def run_cmd(cmd):\n",
    "    print(cmd)\n",
    "    ! $cmd"
   ]
  },
  {
   "cell_type": "code",
   "execution_count": null,
   "metadata": {},
   "outputs": [],
   "source": [
    "output = ipw.Output()\n",
    "display(output)"
   ]
  }
 ],
 "metadata": {
  "kernelspec": {
   "display_name": "Python 2",
   "language": "python",
   "name": "python2"
  },
  "language_info": {
   "codemirror_mode": {
    "name": "ipython",
    "version": 2
   },
   "file_extension": ".py",
   "mimetype": "text/x-python",
   "name": "python",
   "nbconvert_exporter": "python",
   "pygments_lexer": "ipython2",
   "version": "2.7.13"
  }
 },
 "nbformat": 4,
 "nbformat_minor": 2
}
